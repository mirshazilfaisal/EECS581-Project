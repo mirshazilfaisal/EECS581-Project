{
 "cells": [
  {
   "cell_type": "markdown",
   "id": "43a46212",
   "metadata": {},
   "source": [
    "# This is a test file to see if opencv is working and cars are being detected or not"
   ]
  },
  {
   "cell_type": "code",
   "execution_count": 3,
   "id": "a3dec777",
   "metadata": {},
   "outputs": [],
   "source": [
    "#https://www.geeksforgeeks.org/set-opencv-anaconda-environment/"
   ]
  },
  {
   "cell_type": "code",
   "execution_count": 1,
   "id": "04fdc26f",
   "metadata": {},
   "outputs": [],
   "source": [
    "import cv2"
   ]
  },
  {
   "cell_type": "code",
   "execution_count": null,
   "id": "00cd4f3b",
   "metadata": {},
   "outputs": [],
   "source": []
  }
 ],
 "metadata": {
  "kernelspec": {
   "display_name": "Python 3.9.1 64-bit",
   "language": "python",
   "name": "python3"
  },
  "language_info": {
   "codemirror_mode": {
    "name": "ipython",
    "version": 3
   },
   "file_extension": ".py",
   "mimetype": "text/x-python",
   "name": "python",
   "nbconvert_exporter": "python",
   "pygments_lexer": "ipython3",
   "version": "3.9.1"
  },
  "vscode": {
   "interpreter": {
    "hash": "88784adb0b8c4ff769d04a5057ed948106afb0dcb7a4c6d8c6fdb716c72bc917"
   }
  }
 },
 "nbformat": 4,
 "nbformat_minor": 5
}
