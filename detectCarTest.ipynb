{
 "cells": [
  {
   "cell_type": "markdown",
   "id": "43a46212",
   "metadata": {},
   "source": [
    "# This is a test file to see if opencv is working and cars are being detected or not"
   ]
  },
  {
   "cell_type": "code",
   "execution_count": 2,
   "id": "a3dec777",
   "metadata": {},
   "outputs": [],
   "source": [
    "#https://www.geeksforgeeks.org/set-opencv-anaconda-environment/\n",
    "#https://medium.com/analytics-vidhya/vehicle-car-detection-in-real-time-and-recorded-videos-in-python-windows-and-macos-c5548b243b18\n",
    "#https://www.analyticsvidhya.com/blog/2020/04/vehicle-detection-opencv-python/\n",
    "#https://github.com/chandravenky/Computer-Vision---Object-Detection-in-Python/tree/master"
   ]
  },
  {
   "cell_type": "code",
   "execution_count": 3,
   "id": "04fdc26f",
   "metadata": {},
   "outputs": [],
   "source": [
    "import cv2"
   ]
  },
  {
   "cell_type": "code",
   "execution_count": 4,
   "id": "00cd4f3b",
   "metadata": {},
   "outputs": [],
   "source": [
    "capture_car = cv2.VideoCapture(r\"C:\\Users\\RUDRO\\OneDrive - The University of Kansas\\RUDRO\\Study Documents\\Fall-2022\\EECS 581\\Capstoneproject\\EECS581-Project\\Y2Mate.is - 4K Video of Highway Traffic!-KBsqQez-O4w-480p-1655187609817.mp4\")\n",
    "\n",
    "car_cascade = cv2.CascadeClassifier(r\"C:\\Users\\RUDRO\\OneDrive - The University of Kansas\\RUDRO\\Study Documents\\Fall-2022\\EECS 581\\Capstoneproject\\EECS581-Project\\xml files\\cars.xml\")\n",
    "#print(car_cascade)"
   ]
  },
  {
   "cell_type": "code",
   "execution_count": 7,
   "id": "31454b29",
   "metadata": {},
   "outputs": [
    {
     "ename": "KeyboardInterrupt",
     "evalue": "",
     "output_type": "error",
     "traceback": [
      "\u001b[1;31m---------------------------------------------------------------------------\u001b[0m",
      "\u001b[1;31mKeyboardInterrupt\u001b[0m                         Traceback (most recent call last)",
      "Cell \u001b[1;32mIn [7], line 17\u001b[0m\n\u001b[0;32m     15\u001b[0m     cv2\u001b[38;5;241m.\u001b[39mimshow(\u001b[38;5;124m'\u001b[39m\u001b[38;5;124mCar Detection\u001b[39m\u001b[38;5;124m'\u001b[39m, frames)\n\u001b[0;32m     16\u001b[0m \u001b[38;5;66;03m# Wait for Enter key to stop\u001b[39;00m\n\u001b[1;32m---> 17\u001b[0m \u001b[38;5;28;01mif\u001b[39;00m \u001b[43mcv2\u001b[49m\u001b[38;5;241;43m.\u001b[39;49m\u001b[43mwaitKey\u001b[49m\u001b[43m(\u001b[49m\u001b[38;5;241;43m33\u001b[39;49m\u001b[43m)\u001b[49m \u001b[38;5;241m==\u001b[39m \u001b[38;5;241m13\u001b[39m:\n\u001b[0;32m     18\u001b[0m     \u001b[38;5;28;01mbreak\u001b[39;00m\n",
      "\u001b[1;31mKeyboardInterrupt\u001b[0m: "
     ]
    }
   ],
   "source": [
    "# loop runs if capturing has been initialized.\n",
    "while True:\n",
    "    # reads frames from a video\n",
    "    ret, frames = capture_car.read()\n",
    "    # convert to gray scale of each frames\n",
    "    gray = cv2.cvtColor(frames, cv2.COLOR_BGR2GRAY)\n",
    "    # Detects cars of different sizes in the input image\n",
    "    cars = car_cascade.detectMultiScale( gray, 1.1, 1)\n",
    "    # To draw a rectangle in each cars\n",
    "    for (x,y,w,h) in cars:\n",
    "        cv2.rectangle(frames,(x,y),(x+w,y+h),(0,0,255),2)\n",
    "        font = cv2.FONT_HERSHEY_DUPLEX\n",
    "        cv2.putText(frames, 'Car', (x + 6, y - 6), font, 0.5, (0, 0, 255), 1)\n",
    "        # Display frames in a window\n",
    "        cv2.imshow('Car Detection', frames)\n",
    "    # Wait for Enter key to stop\n",
    "    if cv2.waitKey(33) == 13:\n",
    "        break"
   ]
  },
  {
   "cell_type": "code",
   "execution_count": null,
   "id": "99211c55",
   "metadata": {},
   "outputs": [],
   "source": [
    "capture_car.release()\n",
    "cv2.destroyAllWindows()"
   ]
  },
  {
   "cell_type": "code",
   "execution_count": null,
   "id": "9d3821e2",
   "metadata": {},
   "outputs": [],
   "source": []
  }
 ],
 "metadata": {
  "kernelspec": {
   "display_name": "Python 3.9.1 64-bit",
   "language": "python",
   "name": "python3"
  },
  "language_info": {
   "codemirror_mode": {
    "name": "ipython",
    "version": 3
   },
   "file_extension": ".py",
   "mimetype": "text/x-python",
   "name": "python",
   "nbconvert_exporter": "python",
   "pygments_lexer": "ipython3",
   "version": "3.9.1"
  },
  "vscode": {
   "interpreter": {
    "hash": "88784adb0b8c4ff769d04a5057ed948106afb0dcb7a4c6d8c6fdb716c72bc917"
   }
  }
 },
 "nbformat": 4,
 "nbformat_minor": 5
}
